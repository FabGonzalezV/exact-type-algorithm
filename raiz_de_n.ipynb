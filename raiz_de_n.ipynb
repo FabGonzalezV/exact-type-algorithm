{
  "nbformat": 4,
  "nbformat_minor": 0,
  "metadata": {
    "colab": {
      "name": "raiz_de_n",
      "provenance": []
    },
    "kernelspec": {
      "name": "python3",
      "display_name": "Python 3"
    },
    "language_info": {
      "name": "python"
    }
  },
  "cells": [
    {
      "cell_type": "markdown",
      "source": [
        "# Raiz de n"
      ],
      "metadata": {
        "id": "bFE2gyzMrv1f"
      }
    },
    {
      "cell_type": "code",
      "source": [
        "#el siguiente programa\n",
        "#calcula la raiz de un numero\n",
        "#de forma exaustiva\n",
        "#midiento el tiempo de ejecución\n",
        "import time\n"
      ],
      "metadata": {
        "id": "wv6cjKrgrzDM"
      },
      "execution_count": 3,
      "outputs": []
    },
    {
      "cell_type": "code",
      "source": [
        "#solicitamos el numero a calcular raiz\n",
        "n = int(input(\"ingresa n: \"))"
      ],
      "metadata": {
        "colab": {
          "base_uri": "https://localhost:8080/"
        },
        "id": "O2ou5r8dr3pk",
        "outputId": "28eec92d-874b-40ba-ffd8-9df57de95213"
      },
      "execution_count": 65,
      "outputs": [
        {
          "name": "stdout",
          "output_type": "stream",
          "text": [
            "ingresa n: 9\n"
          ]
        }
      ]
    },
    {
      "cell_type": "code",
      "source": [
        "#itaración para hallar la solución\n",
        " \n",
        "solucion = 0.001\n",
        "objetivo = 0\n",
        "iter = 0\n",
        "inicio = time.time()\n",
        "while( True):\n",
        "  iter += 1\n",
        "  if ((objetivo*objetivo) > n):\n",
        "   # print(\"raiz\", objetivo)\n",
        "    break;\n",
        "  else: \n",
        "   objetivo += solucion*solucion\n",
        "  #print(objetivo)\n",
        "fin = time.time()\n",
        "print(\"tiempo de ejecución: \", abs(inicio-fin), \"--> iter: \", iter)\n"
      ],
      "metadata": {
        "colab": {
          "base_uri": "https://localhost:8080/"
        },
        "id": "eMd3OMSzsEGG",
        "outputId": "c9127950-19a5-4baa-c75d-8dfe60db1273"
      },
      "execution_count": 66,
      "outputs": [
        {
          "output_type": "stream",
          "name": "stdout",
          "text": [
            "tiempo de ejecución:  0.9131219387054443 --> iter:  3000001\n"
          ]
        }
      ]
    },
    {
      "cell_type": "markdown",
      "source": [
        "# Raíz de n con intervalo\n"
      ],
      "metadata": {
        "id": "y3tcMNrjYusb"
      }
    },
    {
      "cell_type": "code",
      "source": [
        "#el siguiente codigo calcula la raiz de un\n",
        "#numero por aproximacion\n",
        "\n",
        "n = int(input(\"ingresa n: \"))"
      ],
      "metadata": {
        "colab": {
          "base_uri": "https://localhost:8080/"
        },
        "id": "X_gDxGXoabbb",
        "outputId": "5ce89dcd-1d59-4006-edc0-587110c35a70"
      },
      "execution_count": 63,
      "outputs": [
        {
          "name": "stdout",
          "output_type": "stream",
          "text": [
            "ingresa n: 9\n"
          ]
        }
      ]
    },
    {
      "cell_type": "code",
      "source": [
        "#itaración para hallar la solución\n",
        " \n",
        "paso = 0.001\n",
        "objetivo = 0\n",
        "iter = 0\n",
        "epsilon = 1\n",
        "respuesta = 0\n",
        "inicio = time.time()\n",
        "while(True):\n",
        "  iter += 1\n",
        "  respuesta = (objetivo*objetivo)\n",
        " # print(objetivo)\n",
        "  if ( (respuesta > n - epsilon) and (respuesta < n + epsilon) ):\n",
        "    #print(\"raiz\", objetivo)\n",
        "    break;\n",
        "  else: \n",
        "   objetivo += solucion*solucion\n",
        "fin = time.time()\n",
        "print(\"tiempo de ejecución: \", abs(inicio-fin), \"iter-- \", iter)"
      ],
      "metadata": {
        "colab": {
          "base_uri": "https://localhost:8080/"
        },
        "id": "OwrA6FE9YtxP",
        "outputId": "2ea7d596-6049-4e53-d5d9-f7abf3882501"
      },
      "execution_count": 64,
      "outputs": [
        {
          "output_type": "stream",
          "name": "stdout",
          "text": [
            "tiempo de ejecución:  1.1798183917999268 iter--  2828429\n"
          ]
        }
      ]
    }
  ]
}